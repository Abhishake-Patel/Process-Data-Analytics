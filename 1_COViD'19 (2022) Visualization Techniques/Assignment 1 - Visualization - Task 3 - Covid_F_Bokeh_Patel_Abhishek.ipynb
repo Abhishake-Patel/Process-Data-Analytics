{
 "cells": [
  {
   "cell_type": "markdown",
   "id": "4dfaea18",
   "metadata": {},
   "source": [
    "# Programming assignment 1: Visualizing COVID-19 data"
   ]
  },
  {
   "cell_type": "markdown",
   "id": "97c321b1",
   "metadata": {},
   "source": [
    "## Disclaimer!!\n",
    "\n",
    "##### - This is not an epidemiology study. It is simply a visualization exercise. Some epidemiology terms may not be correct. related to this [tweet.](https://twitter.com/tobiasgalla/status/1245612214632902656)\n",
    "##### - ”Not enough testing was done in my country” is a true statement for every country/province/county/city. This is the data we have to work and infer some understanding of what’s happening. Data is always incomplete and inaccurate.\n",
    "##### - Please use only the raw data I share. This makes marking consistent for the TAs. You can use more recent data to further customize your own dashboard outside this assignment."
   ]
  },
  {
   "cell_type": "markdown",
   "id": "4d4fe47d",
   "metadata": {},
   "source": [
    "# Geographic distribution of worldwide COVID-19 data"
   ]
  },
  {
   "cell_type": "markdown",
   "id": "5eee2aaf",
   "metadata": {},
   "source": [
    "Your team wants to develop a dashboard to present daily visualizations of COVID-19 data collected from the [European Centre for Disease Prevention and Control.](https://www.ecdc.europa.eu/en/publications-data/download-todays-data-geographic-distribution-covid-19-cases-worldwide) Every day your team downloads the .xlsx file from the website, reads it, perform some transformations and produces several visualizations that are presented in the dashboard. \n",
    "\n",
    "Each row of the table contains the number of new cases and deaths reported per day and country. Every section below describes a specific task or visualization to perform."
   ]
  },
  {
   "cell_type": "markdown",
   "id": "72657324",
   "metadata": {},
   "source": [
    "# 6. Interactive Visualizations: Covid_F_Bokeh"
   ]
  },
  {
   "cell_type": "markdown",
   "id": "b2d2af97",
   "metadata": {},
   "source": [
    "So far, we have only seen dynamic visualizations; plots with time in x-axis. The challenges\n",
    "are obvious: too many lines, too many colours, difficulty in identifying the countries. In\n",
    "this Section, we will use [Bokeh](https://bokeh.org/) to plot the current rates per 1M (i.e. the last day for every\n",
    "country). This is considered a static plot since it only shows the current state of the country\n",
    "and not the dynamics. Bokeh however can be used to generate the plots described in the\n",
    "previous sections.\n",
    "\n",
    "Bokeh is a Python package that enables you to make simple, complex and specialized\n",
    "interactive plots. The core data structure in Bokeh is called **ColumnDataSource.** Here,\n",
    "we will convert the pandas dataframe to a ColumnDataSource to be able to build a Bokeh\n",
    "plot. The main building block of Bokeh plots is called **glyphs.** These are the circles, squares\n",
    "and other symbols you use to create plots.\n",
    "\n",
    "In file covid f bokeh.ipynb we follow the steps:"
   ]
  },
  {
   "cell_type": "markdown",
   "id": "23e0efd3",
   "metadata": {},
   "source": [
    "## 1. Import necessary packages and functions. Look in the code below to see where each function is used.\n",
    "\n",
    "\n",
    "## 2. Read the master table with the cumulative cases."
   ]
  },
  {
   "cell_type": "code",
   "execution_count": 1,
   "id": "ed77e454",
   "metadata": {},
   "outputs": [],
   "source": [
    "# Data from here:\n",
    "# https://www.ecdc.europa.eu/en/publications-data/download-todays-data-geographic-distribution-covid-19-cases-worldwide\n",
    "import pandas as pd\n",
    "import numpy as np\n",
    "import seaborn as sns\n",
    "from scipy import stats\n",
    "import matplotlib\n",
    "import matplotlib.pyplot as plt\n",
    "import matplotlib.ticker as mticker\n",
    "import matplotlib.dates as mdates\n",
    "from adjustText import adjust_text\n",
    "from matplotlib.ticker import ScalarFormatter\n",
    "\n",
    "from bokeh.models import ColumnDataSource, LabelSet, Arrow, NormalHead, OpenHead, VeeHead, ColorBar, Span\n",
    "from bokeh.models import Label, Title, NumeralTickFormatter\n",
    "from bokeh.plotting import figure, output_file, show\n",
    "from bokeh.transform import linear_cmap\n",
    "from bokeh.palettes import RdBu, Spectral10, Spectral6\n",
    "from bokeh.io import curdoc"
   ]
  },
  {
   "cell_type": "code",
   "execution_count": 2,
   "id": "65edf726",
   "metadata": {},
   "outputs": [],
   "source": [
    "# READ, RENAME\n",
    "cumalative_covid = pd.read_excel(\"Covid_A_Master_Cumalative_Table.xlsx\")\n",
    "cumalative_covid.drop(columns=['Unnamed: 0'], inplace=True)"
   ]
  },
  {
   "cell_type": "markdown",
   "id": "40bc4e86",
   "metadata": {},
   "source": [
    "## 3. Filter the last day of the results and the top N = 50 countries in terms of cases."
   ]
  },
  {
   "cell_type": "code",
   "execution_count": 3,
   "id": "c579e76f",
   "metadata": {},
   "outputs": [],
   "source": [
    "# N: HOW MANY TOP COUNTRIES YOU WANT TO PICK IN TERMS OF # OF CASES\n",
    "N = 50\n",
    "last_day = cumalative_covid.sort_values('Date', ascending=True).groupby('Country').last()\n",
    "last_day['Country'] = last_day.index\n",
    "last_day.sort_values('Cases', ascending=False, inplace=True)\n",
    "\n",
    "top_countries = last_day[:N]['Country'].tolist() + ['Greece']\n",
    "top_countries_covid = cumalative_covid[cumalative_covid.Country.isin(top_countries)]"
   ]
  },
  {
   "cell_type": "markdown",
   "id": "d8c1e2b0",
   "metadata": {},
   "source": [
    "## 4. Calculate 3 relevant metrics: Case fatality rate, Infection rate per 1M and Mortality rate per 1M."
   ]
  },
  {
   "cell_type": "code",
   "execution_count": 4,
   "id": "9869a201",
   "metadata": {},
   "outputs": [],
   "source": [
    "max_cases = top_countries_covid.groupby(by=['Country']).max()\n",
    "max_cases['Case_fatality_rate'] = max_cases['Deaths']/max_cases['Cases']*100\n",
    "max_cases.sort_values('Cases', ascending=False)\n",
    "max_cases['Infection_rate_per_1M'] = max_cases['Cases']/max_cases['Population']*1000000\n",
    "max_cases['Mortality_rate_per_1M'] = max_cases['Deaths']/max_cases['Population']*1000000\n",
    "# max_cases.to_excel('covid_b_cases_cumulative_table.xlsx')"
   ]
  },
  {
   "cell_type": "markdown",
   "id": "c8c27dd9",
   "metadata": {},
   "source": [
    "## 5. Create a new column to represent the color according to the continent of each country."
   ]
  },
  {
   "cell_type": "code",
   "execution_count": 5,
   "id": "ca363aa4",
   "metadata": {},
   "outputs": [],
   "source": [
    "max_cases.loc[max_cases['Continent'] == 'Asia', 'Color'] =  Spectral10[0]\n",
    "max_cases.loc[max_cases['Continent'] == 'Europe', 'Color'] =  Spectral10[3]\n",
    "max_cases.loc[max_cases['Continent'] == 'America', 'Color'] =  Spectral10[6]\n",
    "max_cases.loc[max_cases['Continent'] == 'Africa', 'Color'] =  Spectral10[9]"
   ]
  },
  {
   "cell_type": "markdown",
   "id": "f1a814a4",
   "metadata": {},
   "source": [
    "## 6. Calculate the average values for the 3 relevant metrics. These will be used as baselines in the graphs we will plot later."
   ]
  },
  {
   "cell_type": "code",
   "execution_count": 6,
   "id": "52101dc8",
   "metadata": {},
   "outputs": [
    {
     "name": "stdout",
     "output_type": "stream",
     "text": [
      "The average infection rate is: 3852.8 per 1m people\n",
      "The average death rate is: 134.2 per 1m people\n",
      "The average mortality rate is: 3.5 per 100 people infected\n"
     ]
    }
   ],
   "source": [
    "Average_infection_rate_per_1m = max_cases['Cases'].sum()/max_cases['Population'].sum()*1000000\n",
    "print(\"The average infection rate is: {:.1f} per 1m people\".format(Average_infection_rate_per_1m))\n",
    "\n",
    "Average_death_rate_per_1m = max_cases['Deaths'].sum()/max_cases['Population'].sum()*1000000\n",
    "print(\"The average death rate is: {:.1f} per 1m people\".format(Average_death_rate_per_1m))\n",
    "\n",
    "Average_case_fatality_rate = max_cases['Deaths'].sum()/max_cases['Cases'].sum()*100\n",
    "print(\"The average mortality rate is: {:.1f} per 100 people infected\".format(Average_case_fatality_rate))"
   ]
  },
  {
   "cell_type": "markdown",
   "id": "47d0c3a0",
   "metadata": {},
   "source": [
    "## 7. Generate the ColumnDataSource data structure from the pandas dataframe max cases. This is the data structure needed for further plotting in Bokeh."
   ]
  },
  {
   "cell_type": "code",
   "execution_count": 7,
   "id": "6ea06405",
   "metadata": {},
   "outputs": [],
   "source": [
    "source_1 = ColumnDataSource(max_cases)"
   ]
  },
  {
   "cell_type": "code",
   "execution_count": 8,
   "id": "a12a2e95",
   "metadata": {},
   "outputs": [],
   "source": [
    "source_2 = ColumnDataSource(max_cases)"
   ]
  },
  {
   "cell_type": "markdown",
   "id": "67389c74",
   "metadata": {},
   "source": [
    "## 8. Here, we will configure all the components needed to generate the Bokeh figure:\n",
    "\n",
    "- Define the title and tools we want to include.\n",
    "- Create a new Figure for plotting with the arguments defined in the parenthesis.\n",
    "- Configure colours, axis labels, fontsize and number format.\n",
    "- Call the **glyph** method **circle** to plot the x-y in source 1 data structure. Use ’Continent’ as the legend, the respective ’Color’ as the circle color and black color as the line of each circle.\n",
    "- Configure the information we want to present when **hovering** over the different data points. Define variables and formats.\n",
    "- **Annotate with labels:** use the country names text to annotate each circle. Some offset is defined along with other properties of the text such as font size, color and style. The annotation is considered an additional component or layout that is arranged or overlaid along with many other components of the plot. The **add layout** function adds the newly created component to the existing plot.\n",
    "- **Annotate with horizontal and vertical lines** representing the average x and y (hline and vline, respectively). The lines extend to the edge of the plot area.\n",
    "- **Add text annotation** to explain what the dashed lines show.\n",
    "- **Output the file** as an **.html file.** This type of file can be used in a website and contains all the information to allow the used to interact with it.\n",
    "- Finally, we show the plot generated in a new tab."
   ]
  },
  {
   "cell_type": "code",
   "execution_count": 9,
   "id": "3c2adef0",
   "metadata": {},
   "outputs": [],
   "source": [
    "TITLE = \"Infection Rate vs Case Fatality Rate\"\n",
    "TOOLS = \"hover, pan, wheel_zoom, box_zoom, reset, save\"\n",
    "p = figure(title=TITLE, tools=TOOLS, toolbar_location=\"above\", plot_width=1200, x_axis_type=\"log\")\n",
    "p.toolbar.logo = \"grey\"\n",
    "p.background_fill_color = \"#dddddd\"\n",
    "\n",
    "p.xaxis.axis_label = \"Infection rate per 1M\"\n",
    "p.yaxis.axis_label = \"Case fatality rate (%)\"\n",
    "p.xaxis.axis_label_text_font_size = \"14pt\"\n",
    "p.yaxis.axis_label_text_font_size = \"14pt\"\n",
    "p.xaxis.major_label_text_font_size = \"14pt\"\n",
    "p.yaxis.major_label_text_font_size = \"14pt\"\n",
    "p.xaxis.formatter = NumeralTickFormatter(format=\"0,0\")\n",
    "p.grid.grid_line_color = \"white\"\n",
    "\n",
    "# #Use the field name of the column source\n",
    "# mapper = linear_cmap('Infection_rate_per_1m', 'Turbo256', max_cases['Infection_rate_per_1m'].min(), max_cases['Infection_rate_per_1m'].max())\n",
    "\n",
    "p.circle(\"Infection_rate_per_1M\", \"Case_fatality_rate\", size=12, source=source_1, \n",
    "#          fill_color=linear_cmap('Infection_rate_per_1m', 'Turbo256', max_cases['Infection_rate_per_1m'].min(), max_cases['Infection_rate_per_1m'].max()),\n",
    "         legend_group='Continent',\n",
    "         color='Color',\n",
    "         line_color='black',\n",
    "         fill_alpha=0.8)\n",
    "\n",
    "p.hover.tooltips = [\n",
    "    (\"Country\", \"@{Country}\"),\n",
    "    (\"Infection rate per 1m\", \"@Infection_rate_per_1M{0,0}\"),\n",
    "    (\"Case fatality rate (%)\", \"@Case_fatality_rate{0.1}\" ),\n",
    "    (\"Cases\", \"@Cases{0,0}\"),\n",
    "    (\"Deaths\", \"@Deaths{0,0}\"),\n",
    "]\n",
    "\n",
    "labels = LabelSet(x=\"Infection_rate_per_1M\", y=\"Case_fatality_rate\", text=\"Country\", y_offset=8,\n",
    "                  text_font_size=\"11px\", text_color=\"black\", text_font_style='bold',\n",
    "                  source=source_1, text_align='center')\n",
    "p.add_layout(labels)\n",
    "\n",
    "hline = Span(location=Average_case_fatality_rate,\n",
    "             dimension='width', line_color='black',\n",
    "             line_dash='dashed', line_width=1)\n",
    "p.add_layout(hline)\n",
    "\n",
    "vline = Span(location=Average_infection_rate_per_1m,\n",
    "             dimension='height', line_color='black',\n",
    "             line_dash='dashed', line_width=1)\n",
    "p.add_layout(vline)\n",
    "\n",
    "citation = Label(x=100, y=12, text='Dashed lines show the average of each axis', \n",
    "                 text_font_size=\"12px\", \n",
    "                 text_color=\"black\", \n",
    "                 text_font_style='bold', \n",
    "                 render_mode='css',\n",
    "                 border_line_color='black', \n",
    "                 border_line_alpha=1.0,\n",
    "                 background_fill_color='white', \n",
    "                 background_fill_alpha=1.0)\n",
    "p.add_layout(citation)\n",
    "\n",
    "# color_bar = ColorBar(color_mapper=mapper['transform'], width=8,  location=(0,0))\n",
    "# p.add_layout(color_bar, 'right')\n",
    "\n",
    "output_file(\"Infection_Rate_vs_Case_Fatality.html\", title=\"Infection Rate vs Case Fatality\")\n",
    "\n",
    "show(p)"
   ]
  },
  {
   "cell_type": "code",
   "execution_count": 10,
   "id": "71a880c7",
   "metadata": {},
   "outputs": [],
   "source": [
    "curdoc().clear()"
   ]
  },
  {
   "cell_type": "code",
   "execution_count": 11,
   "id": "7d45b5c1",
   "metadata": {
    "scrolled": false
   },
   "outputs": [],
   "source": [
    "TITLE = \"Infection Rate per 1M vs Fatality Rate per 1M\"\n",
    "TOOLS = \"hover, pan, wheel_zoom, box_zoom, reset, save\"\n",
    "p = figure(title=TITLE, tools=TOOLS, toolbar_location=\"above\", plot_width=1200, x_axis_type=\"log\", y_axis_type=\"log\")\n",
    "p.toolbar.logo = \"grey\"\n",
    "p.background_fill_color = \"#dddddd\"\n",
    "\n",
    "p.xaxis.axis_label = \"Infection rate per 1M\"\n",
    "p.yaxis.axis_label = \"Fatality rate per 1M\"\n",
    "p.xaxis.axis_label_text_font_size = \"14pt\"\n",
    "p.yaxis.axis_label_text_font_size = \"14pt\"\n",
    "p.xaxis.major_label_text_font_size = \"14pt\"\n",
    "p.yaxis.major_label_text_font_size = \"14pt\"\n",
    "p.xaxis.formatter = NumeralTickFormatter(format=\"0,0\")\n",
    "p.grid.grid_line_color = \"white\"\n",
    "\n",
    "# #Use the field name of the column source\n",
    "# mapper = linear_cmap('Infection_rate_per_1m', 'Turbo256', max_cases['Infection_rate_per_1m'].min(), max_cases['Infection_rate_per_1m'].max())\n",
    "\n",
    "p.circle(\"Infection_rate_per_1M\", \"Mortality_rate_per_1M\", size=12, source=source_2, \n",
    "#          fill_color=linear_cmap('Infection_rate_per_1m', 'Turbo256', max_cases['Infection_rate_per_1m'].min(), max_cases['Infection_rate_per_1m'].max()),\n",
    "         legend_group='Continent',\n",
    "         color='Color',\n",
    "         line_color='black',\n",
    "         fill_alpha=0.8)\n",
    "\n",
    "p.hover.tooltips = [\n",
    "    (\"Country\", \"@{Country}\"),\n",
    "    (\"Infection rate per 1m\", \"@Infection_rate_per_1M{0,0}\"),\n",
    "    (\"Mortality rate per 1M\", \"@Mortality_rate_per_1M{0,0}\" ),\n",
    "    (\"Cases\", \"@Cases{0,0}\"),\n",
    "    (\"Deaths\", \"@Deaths{0,0}\"),\n",
    "]\n",
    "\n",
    "labels = LabelSet(x=\"Infection_rate_per_1M\", y=\"Mortality_rate_per_1M\", text=\"Country\", y_offset=8,\n",
    "                  text_font_size=\"11px\", text_color=\"black\", text_font_style='bold',\n",
    "                  source=source_2, text_align='center')\n",
    "p.add_layout(labels)\n",
    "\n",
    "hline = Span(location=Average_death_rate_per_1m,\n",
    "             dimension='width', line_color='black',\n",
    "             line_dash='dashed', line_width=1)\n",
    "p.add_layout(hline)\n",
    "\n",
    "vline = Span(location=Average_infection_rate_per_1m,\n",
    "             dimension='height', line_color='black',\n",
    "             line_dash='dashed', line_width=1)\n",
    "p.add_layout(vline)\n",
    "\n",
    "citation = Label(x=100, y=1000, text='Dashed lines show the average of each axis', \n",
    "                 text_font_size=\"12px\", \n",
    "                 text_color=\"black\", \n",
    "                 text_font_style='bold', \n",
    "                 render_mode='css',\n",
    "                 border_line_color='black', \n",
    "                 border_line_alpha=1.0,\n",
    "                 background_fill_color='white', \n",
    "                 background_fill_alpha=1.0)\n",
    "p.add_layout(citation)\n",
    "\n",
    "# color_bar = ColorBar(color_mapper=mapper['transform'], width=8,  location=(0,0))\n",
    "# p.add_layout(color_bar, 'right')\n",
    "\n",
    "output_file(\"Infection_Rate_per_1M_vs_Fatality_Rate_per_1M.html\", title=\"Infection Rate per 1M vs Fatality Rate per 1M\")\n",
    "\n",
    "show(p)"
   ]
  },
  {
   "cell_type": "code",
   "execution_count": null,
   "id": "23f70aae",
   "metadata": {},
   "outputs": [],
   "source": []
  }
 ],
 "metadata": {
  "kernelspec": {
   "display_name": "Python 3 (ipykernel)",
   "language": "python",
   "name": "python3"
  },
  "language_info": {
   "codemirror_mode": {
    "name": "ipython",
    "version": 3
   },
   "file_extension": ".py",
   "mimetype": "text/x-python",
   "name": "python",
   "nbconvert_exporter": "python",
   "pygments_lexer": "ipython3",
   "version": "3.9.12"
  }
 },
 "nbformat": 4,
 "nbformat_minor": 5
}
